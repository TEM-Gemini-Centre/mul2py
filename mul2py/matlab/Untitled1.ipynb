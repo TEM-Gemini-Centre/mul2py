{
 "cells": [
  {
   "cell_type": "code",
   "execution_count": 1,
   "id": "2d73a9c3",
   "metadata": {},
   "outputs": [],
   "source": [
    "%matplotlib qt\n",
    "import hyperspy.api as hs\n",
    "import numpy as np\n",
    "from scipy.optimize import curve_fit\n",
    "import matplotlib.pyplot as plt"
   ]
  },
  {
   "cell_type": "code",
   "execution_count": 3,
   "id": "2b615bff",
   "metadata": {},
   "outputs": [],
   "source": [
    "s = hs.load('CBEDgpu_results_test.hdf5')"
   ]
  },
  {
   "cell_type": "code",
   "execution_count": 4,
   "id": "345298ca",
   "metadata": {},
   "outputs": [
    {
     "data": {
      "text/plain": [
       "<Signal2D, title: CBEDgpu, dimensions: (40|2048, 2048)>"
      ]
     },
     "execution_count": 4,
     "metadata": {},
     "output_type": "execute_result"
    }
   ],
   "source": [
    "s"
   ]
  },
  {
   "cell_type": "code",
   "execution_count": 7,
   "id": "71ba7002",
   "metadata": {},
   "outputs": [
    {
     "data": {
      "application/vnd.jupyter.widget-view+json": {
       "model_id": "47f73ca523454a72adb19c5e2fa5810a",
       "version_major": 2,
       "version_minor": 0
      },
      "text/plain": [
       "VBox(children=(FloatText(value=0.0, description='Vmin', disabled=True), FloatText(value=0.0, description='Vmax…"
      ]
     },
     "metadata": {},
     "output_type": "display_data"
    }
   ],
   "source": [
    "s.plot()"
   ]
  },
  {
   "cell_type": "code",
   "execution_count": 12,
   "id": "b128b3db",
   "metadata": {},
   "outputs": [],
   "source": [
    "psi_im = s.original_metadata.parameters.iw_psi_im\n",
    "psi_re = s.original_metadata.parameters.iw_psi_re"
   ]
  },
  {
   "cell_type": "code",
   "execution_count": 14,
   "id": "1b61fba3",
   "metadata": {},
   "outputs": [],
   "source": [
    "probe = psi_re + 1.0j*psi_im"
   ]
  },
  {
   "cell_type": "code",
   "execution_count": 16,
   "id": "2dac8324",
   "metadata": {},
   "outputs": [
    {
     "data": {
      "text/plain": [
       "<matplotlib.image.AxesImage at 0x19c5c959250>"
      ]
     },
     "execution_count": 16,
     "metadata": {},
     "output_type": "execute_result"
    }
   ],
   "source": [
    "fig, axes = plt.subplots(nrows=1, ncols=3)\n",
    "axes[0].imshow(np.real(probe))\n",
    "axes[1].imshow(np.imag(probe))\n",
    "axes[2].imshow(np.abs(probe)**2)"
   ]
  },
  {
   "cell_type": "code",
   "execution_count": 8,
   "id": "765b7b6d",
   "metadata": {},
   "outputs": [
    {
     "data": {
      "text/plain": [
       "<hyperspy.drawing._widgets.line2d.Line2DWidget at 0x2509457a580>"
      ]
     },
     "execution_count": 8,
     "metadata": {},
     "output_type": "execute_result"
    }
   ],
   "source": [
    "haadf = s.inav[:, 1]\n",
    "flipped_haadf = haadf.T\n",
    "flipped_haadf.plot()\n",
    "line = hs.roi.Line2DROI(10, 10, 20, 10)\n",
    "line.add_widget(flipped_haadf)"
   ]
  },
  {
   "cell_type": "code",
   "execution_count": null,
   "id": "df4d950d",
   "metadata": {},
   "outputs": [],
   "source": [
    "profile = line(flipped_haadf)\n",
    "profile.plot()"
   ]
  },
  {
   "cell_type": "code",
   "execution_count": 11,
   "id": "4ff027a4",
   "metadata": {},
   "outputs": [
    {
     "data": {
      "text/plain": [
       "<hyperspy.drawing._widgets.circle.CircleWidget at 0x25094da6f70>"
      ]
     },
     "execution_count": 11,
     "metadata": {},
     "output_type": "execute_result"
    }
   ],
   "source": [
    "flipped_haadf.plot()\n",
    "aperture = hs.roi.CircleROI(10, 10, 2)\n",
    "aperture.add_widget(flipped_haadf)"
   ]
  },
  {
   "cell_type": "code",
   "execution_count": 14,
   "id": "62ec7aed",
   "metadata": {},
   "outputs": [],
   "source": [
    "column = aperture(flipped_haadf)\n",
    "column.plot()"
   ]
  },
  {
   "cell_type": "code",
   "execution_count": 17,
   "id": "d19342fa",
   "metadata": {},
   "outputs": [],
   "source": [
    "integrated_intensity = column.sum(axis=[0, 1]).data"
   ]
  },
  {
   "cell_type": "code",
   "execution_count": 31,
   "id": "528a9904",
   "metadata": {},
   "outputs": [],
   "source": [
    "def line(x, a):\n",
    "    return a*x# + b"
   ]
  },
  {
   "cell_type": "code",
   "execution_count": 20,
   "id": "e2286c0d",
   "metadata": {},
   "outputs": [
    {
     "data": {
      "text/plain": [
       "array([0.00091134, 0.0183372 , 0.01954502, 0.03775156, 0.03888019,\n",
       "       0.0535481 , 0.05450309, 0.0708031 , 0.07181992, 0.08710291,\n",
       "       0.08836545, 0.10805516, 0.1094242 , 0.12612557, 0.12769948,\n",
       "       0.14143889, 0.14382017, 0.15443984, 0.15738903, 0.17072259,\n",
       "       0.17330866, 0.18669242, 0.18930066, 0.19967302, 0.20178044,\n",
       "       0.21107079, 0.21334468, 0.22204993, 0.22482818, 0.23702689,\n",
       "       0.24019529, 0.24839935, 0.2515842 , 0.26023531, 0.2637455 ,\n",
       "       0.27093139, 0.27450078, 0.28190745, 0.28555912, 0.29302513])"
      ]
     },
     "execution_count": 20,
     "metadata": {},
     "output_type": "execute_result"
    }
   ],
   "source": [
    "np.array(integrated_intensity)"
   ]
  },
  {
   "cell_type": "code",
   "execution_count": 24,
   "id": "7254d33e",
   "metadata": {},
   "outputs": [
    {
     "data": {
      "text/plain": [
       "array([ 0.   ,  2.025,  4.05 ,  6.075,  8.1  , 10.125, 12.15 , 14.175,\n",
       "       16.2  , 18.225, 20.25 , 22.275, 24.3  , 26.325, 28.35 , 30.375,\n",
       "       32.4  , 34.425, 36.45 , 38.475, 40.5  , 42.525, 44.55 , 46.575,\n",
       "       48.6  , 50.625, 52.65 , 54.675, 56.7  , 58.725, 60.75 , 62.775,\n",
       "       64.8  , 66.825, 68.85 , 70.875, 72.9  , 74.925, 76.95 , 78.975])"
      ]
     },
     "execution_count": 24,
     "metadata": {},
     "output_type": "execute_result"
    }
   ],
   "source": []
  },
  {
   "cell_type": "code",
   "execution_count": 32,
   "id": "e539afc5",
   "metadata": {},
   "outputs": [],
   "source": [
    "popt, pcov = curve_fit(line, s.axes_manager['z'].axis, integrated_intensity)"
   ]
  },
  {
   "cell_type": "code",
   "execution_count": 26,
   "id": "0e70c8e9",
   "metadata": {},
   "outputs": [
    {
     "data": {
      "text/plain": [
       "array([0.00364412, 0.01884884])"
      ]
     },
     "execution_count": 26,
     "metadata": {},
     "output_type": "execute_result"
    }
   ],
   "source": [
    "popt"
   ]
  },
  {
   "cell_type": "code",
   "execution_count": 28,
   "id": "edef6bf8",
   "metadata": {},
   "outputs": [],
   "source": []
  },
  {
   "cell_type": "code",
   "execution_count": 33,
   "id": "d15a6640",
   "metadata": {},
   "outputs": [
    {
     "data": {
      "text/plain": [
       "[<matplotlib.lines.Line2D at 0x25094a51e20>]"
      ]
     },
     "execution_count": 33,
     "metadata": {},
     "output_type": "execute_result"
    }
   ],
   "source": [
    "fig, ax = plt.subplots()\n",
    "ax.plot(s.axes_manager['z'].axis, integrated_intensity, 'r-')\n",
    "ax.plot(s.axes_manager['z'].axis, line(s.axes_manager['z'].axis, *popt), 'b-')"
   ]
  },
  {
   "cell_type": "code",
   "execution_count": 34,
   "id": "466d6517",
   "metadata": {},
   "outputs": [
    {
     "data": {
      "text/plain": [
       "array([0.00399759])"
      ]
     },
     "execution_count": 34,
     "metadata": {},
     "output_type": "execute_result"
    }
   ],
   "source": [
    "popt"
   ]
  },
  {
   "cell_type": "code",
   "execution_count": null,
   "id": "4dabc51b",
   "metadata": {},
   "outputs": [],
   "source": []
  },
  {
   "cell_type": "code",
   "execution_count": 7,
   "id": "4d048d82",
   "metadata": {},
   "outputs": [],
   "source": [
    "s.inav[:, 0].T.plot()"
   ]
  }
 ],
 "metadata": {
  "kernelspec": {
   "display_name": "Python 3 (ipykernel)",
   "language": "python",
   "name": "python3"
  },
  "language_info": {
   "codemirror_mode": {
    "name": "ipython",
    "version": 3
   },
   "file_extension": ".py",
   "mimetype": "text/x-python",
   "name": "python",
   "nbconvert_exporter": "python",
   "pygments_lexer": "ipython3",
   "version": "3.9.7"
  }
 },
 "nbformat": 4,
 "nbformat_minor": 5
}
