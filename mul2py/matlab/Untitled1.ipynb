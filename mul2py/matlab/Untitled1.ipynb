{
 "cells": [
  {
   "cell_type": "code",
   "execution_count": 2,
   "id": "2d73a9c3",
   "metadata": {},
   "outputs": [],
   "source": [
    "%matplotlib qt\n",
    "import hyperspy.api as hs"
   ]
  },
  {
   "cell_type": "code",
   "execution_count": 26,
   "id": "cb71a957",
   "metadata": {},
   "outputs": [
    {
     "name": "stdout",
     "output_type": "stream",
     "text": [
      "Group: <HDF5 group \"/Experiments/test/metadata\" (2 members)>\n",
      "Key: General\n",
      "Group: <HDF5 group \"/Experiments/test/metadata\" (2 members)>\n",
      "Key: Signal\n",
      "Group: <HDF5 group \"/Experiments/test/original_metadata\" (1 members)>\n",
      "Key: parameters\n",
      "Group: <HDF5 group \"/Experiments/test/original_metadata/parameters\" (7 members)>\n",
      "Key: detector\n",
      "Group: <HDF5 group \"/Experiments/test/original_metadata/parameters/detector\" (3 members)>\n",
      "Key: cir\n",
      "Group: <HDF5 group \"/Experiments/test/original_metadata/parameters/detector\" (3 members)>\n",
      "Key: matrix\n",
      "Group: <HDF5 group \"/Experiments/test/original_metadata/parameters/detector\" (3 members)>\n",
      "Key: radial\n",
      "Group: <HDF5 group \"/Experiments/test/original_metadata/parameters\" (7 members)>\n",
      "Key: spec_amorp\n",
      "Group: <HDF5 group \"/Experiments/test/original_metadata/parameters\" (7 members)>\n",
      "Key: spec_atoms\n",
      "Group: <HDF5 group \"/Experiments/test/original_metadata/parameters\" (7 members)>\n",
      "Key: spec_rot_center_p\n",
      "Group: <HDF5 group \"/Experiments/test/original_metadata/parameters\" (7 members)>\n",
      "Key: spec_rot_u0\n",
      "Group: <HDF5 group \"/Experiments/test/original_metadata/parameters\" (7 members)>\n",
      "Key: system_conf\n",
      "Group: <HDF5 group \"/Experiments/test/original_metadata/parameters\" (7 members)>\n",
      "Key: thick\n"
     ]
    }
   ],
   "source": [
    "s = hs.load('test3.hdf5')"
   ]
  },
  {
   "cell_type": "code",
   "execution_count": 27,
   "id": "7cbf23b0",
   "metadata": {},
   "outputs": [
    {
     "data": {
      "text/plain": [
       "array([[13.    ,  1.0125,  1.0125, ...,  1.    ,  0.    ,  0.    ],\n",
       "       [13.    ,  1.0125,  3.0375, ...,  1.    ,  0.    ,  0.    ],\n",
       "       [13.    ,  3.0375,  1.0125, ...,  1.    ,  0.    ,  0.    ],\n",
       "       ...,\n",
       "       [13.    , 37.4625, 39.4875, ...,  1.    ,  0.    ,  0.    ],\n",
       "       [13.    , 39.4875, 37.4625, ...,  1.    ,  0.    ,  0.    ],\n",
       "       [13.    , 39.4875, 39.4875, ...,  1.    ,  0.    ,  0.    ]])"
      ]
     },
     "execution_count": 27,
     "metadata": {},
     "output_type": "execute_result"
    }
   ],
   "source": [
    "s.original_metadata.parameters.spec_atoms"
   ]
  }
 ],
 "metadata": {
  "kernelspec": {
   "display_name": "Python 3 (ipykernel)",
   "language": "python",
   "name": "python3"
  },
  "language_info": {
   "codemirror_mode": {
    "name": "ipython",
    "version": 3
   },
   "file_extension": ".py",
   "mimetype": "text/x-python",
   "name": "python",
   "nbconvert_exporter": "python",
   "pygments_lexer": "ipython3",
   "version": "3.9.7"
  }
 },
 "nbformat": 4,
 "nbformat_minor": 5
}
