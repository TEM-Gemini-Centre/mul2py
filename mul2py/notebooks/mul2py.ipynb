{
 "cells": [
  {
   "cell_type": "markdown",
   "metadata": {},
   "source": [
    "# Notebook for MULTEM analysis"
   ]
  },
  {
   "cell_type": "code",
   "execution_count": 1,
   "metadata": {},
   "outputs": [
    {
     "name": "stderr",
     "output_type": "stream",
     "text": [
      "C:\\ProgramData\\Anaconda3\\envs\\HyperSpy\\lib\\site-packages\\dask\\config.py:168: YAMLLoadWarning: calling yaml.load() without Loader=... is deprecated, as the default Loader is unsafe. Please read https://msg.pyyaml.org/load for full details.\n",
      "  data = yaml.load(f.read()) or {}\n",
      "WARNING:hyperspy_gui_traitsui:The module://ipykernel.pylab.backend_inline matplotlib backend is not supported by the installed traitsui version and the ETS toolkit has been set to null. To set the ETS toolkit independently from the matplotlib backend, set it before importing matplotlib. See http://hyperspy.readthedocs.io/en/stable/user_guide/getting_started.html for more information.\n",
      "WARNING:hyperspy_gui_traitsui:The traitsui GUI elements are not available.\n"
     ]
    }
   ],
   "source": [
    "import mul2py as m2p"
   ]
  },
  {
   "cell_type": "markdown",
   "metadata": {},
   "source": [
    "## EWRS"
   ]
  },
  {
   "cell_type": "markdown",
   "metadata": {},
   "source": [
    "### Load data"
   ]
  },
  {
   "cell_type": "code",
   "execution_count": null,
   "metadata": {},
   "outputs": [],
   "source": [
    "data_path = Path(r'C:\\Users\\emilc\\OneDrive - NTNU\\MULTEM_Results\\EWRS_results.hspy')"
   ]
  },
  {
   "cell_type": "code",
   "execution_count": null,
   "metadata": {},
   "outputs": [],
   "source": [
    "signal = hs.load(str(data_path), lazy=True)"
   ]
  },
  {
   "cell_type": "markdown",
   "metadata": {},
   "source": [
    "### Modify `axes_manager`"
   ]
  },
  {
   "cell_type": "code",
   "execution_count": null,
   "metadata": {},
   "outputs": [],
   "source": [
    "signal.axes_manager['z'].offset = 2.025\n",
    "signal.axes_manager['z'].scale = 2.025\n",
    "signal.axes_manager['z'].units = 'Å'\n",
    "signal.axes_manager['dx'].offset=0\n",
    "signal.axes_manager['dy'].offset=0"
   ]
  },
  {
   "cell_type": "markdown",
   "metadata": {},
   "source": [
    "### Make a single image from a given `inav`"
   ]
  },
  {
   "cell_type": "code",
   "execution_count": null,
   "metadata": {},
   "outputs": [],
   "source": [
    "fig, ax = m2p.exporttools.make_image(signal, [0, 0, -3], False, 'annotate', 'mark_atoms',\n",
    "                                     figure={'figsize': (4, 4),\n",
    "                                             'dpi': 300})"
   ]
  },
  {
   "cell_type": "markdown",
   "metadata": {},
   "source": [
    "### Export several images\n",
    "Convenient for making videos in imageJ"
   ]
  },
  {
   "cell_type": "code",
   "execution_count": null,
   "metadata": {
    "scrolled": false
   },
   "outputs": [],
   "source": [
    "counter = 0\n",
    "thicknesses = [0, 9, 19, 29, 39] #Thicknesses to use\n",
    "for s in signal:\n",
    "    if signal.axes_manager.indices[-1] in thicknesses:\n",
    "        fig, ax = m2p.exporttools.make_image(signal, None, True, 'annotate', 'mark_atoms',\n",
    "                                             figure={'figsize': (4, 4),\n",
    "                                                     'dpi': 300})\n",
    "        \n",
    "        frame_no = '{counter:0{pad:.0f}.0f}'.format(counter=counter, pad=3)\n",
    "        fig.savefig(data_path.with_name('{stem}_{size:.0f}in_{dpi:.0f}dpi_{number}.png'.format(stem=data_path.stem, number=frame_no, size = fig.get_size_inches()[0], dpi = fig.dpi)))\n",
    "        \n",
    "        plt.close(fig)\n",
    "        \n",
    "        counter += 1\n",
    "    else:\n",
    "        pass"
   ]
  },
  {
   "cell_type": "code",
   "execution_count": null,
   "metadata": {},
   "outputs": [],
   "source": [
    "signal.plot()"
   ]
  },
  {
   "cell_type": "code",
   "execution_count": null,
   "metadata": {},
   "outputs": [],
   "source": []
  }
 ],
 "metadata": {
  "kernelspec": {
   "display_name": "Python [conda env:HyperSpy]",
   "language": "python",
   "name": "conda-env-HyperSpy-py"
  },
  "language_info": {
   "codemirror_mode": {
    "name": "ipython",
    "version": 3
   },
   "file_extension": ".py",
   "mimetype": "text/x-python",
   "name": "python",
   "nbconvert_exporter": "python",
   "pygments_lexer": "ipython3",
   "version": "3.7.3"
  }
 },
 "nbformat": 4,
 "nbformat_minor": 2
}
