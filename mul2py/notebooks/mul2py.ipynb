{
 "cells": [
  {
   "cell_type": "markdown",
   "metadata": {},
   "source": [
    "# Notebook for MULTEM analysis"
   ]
  },
  {
   "cell_type": "code",
   "execution_count": null,
   "metadata": {},
   "outputs": [],
   "source": [
    "%matplotlib qt\n",
    "import numpy as np\n",
    "import mul2py as m2p\n",
    "from pathlib import Path\n",
    "import hyperspy.api as hs\n",
    "import h5py as hdf"
   ]
  },
  {
   "cell_type": "markdown",
   "metadata": {},
   "source": [
    "## EWRS"
   ]
  },
  {
   "cell_type": "code",
   "execution_count": 2,
   "metadata": {},
   "outputs": [
    {
     "data": {
      "text/plain": [
       "├── General\n",
       "│   ├── elapsed_time = 208.199\n",
       "│   ├── original_filename = C:\\Users\\emilc\\Documents\\PhDScripts\\TEMGeminiCentre\\mul2py\\mul2py\\matlab\\ewrs_test_results.ecmat\n",
       "│   └── title = ewrs_test_results\n",
       "├── Signal\n",
       "│   ├── binned = False\n",
       "│   └── signal_type = \n",
       "└── SimulationParameters\n",
       "    ├── E_0 = 200.0\n",
       "    ├── cond_lens_c_10 = 14.0312\n",
       "    ├── cond_lens_c_30 = 0.5\n",
       "    ├── cond_lens_outer_aper_ang = 15.0\n",
       "    ├── nx = 8.0\n",
       "    ├── ny = 16.0\n",
       "    ├── spec_atoms = array([[79.    , 13.    , 13.    , ..., 13.    , 13.    , 79.    ],\n",
       "       [ 1 ...  0.    ],\n",
       "       [ 0.    ,  0.    ,  0.    , ...,  0.    ,  0.    ,  0.    ]])\n",
       "    ├── spec_dz = 2.025\n",
       "    ├── spec_lx = 40.5\n",
       "    ├── spec_ly = 40.5\n",
       "    ├── spec_lz = 81.0\n",
       "    ├── thick = array([ 0.   ,  2.025,  4.05 ,  6.075,  8.1  , 10.125, 12.15 , 14.175,\n",
       "        ... 2.775,\n",
       "       64.8  , 66.825, 68.85 , 70.875, 72.9  , 74.925, 76.95 , 78.975])\n",
       "    └── thick_type = 2.0"
      ]
     },
     "execution_count": 2,
     "metadata": {},
     "output_type": "execute_result"
    }
   ],
   "source": [
    "data_path = Path(r'C:/Users/emilc/Documents/PhDScripts/TEMGeminiCentre/mul2py/mul2py/matlab/ewrs_test_results.ecmat')\n",
    "ewrs = m2p.buildtools.make_signal(data_path)\n",
    "ewrs.save(data_path.with_suffix('.hspy'))\n",
    "ewrs.plot()\n",
    "ewrs.metadata"
   ]
  },
  {
   "cell_type": "code",
   "execution_count": null,
   "metadata": {},
   "outputs": [],
   "source": [
    "from mul2py.exporttools import image"
   ]
  },
  {
   "cell_type": "code",
   "execution_count": null,
   "metadata": {},
   "outputs": [],
   "source": [
    "image.make_image(ewrs, None, None, 'mark_atoms')"
   ]
  },
  {
   "cell_type": "markdown",
   "metadata": {},
   "source": [
    "## CBED"
   ]
  },
  {
   "cell_type": "code",
   "execution_count": null,
   "metadata": {},
   "outputs": [],
   "source": [
    "data_path = Path(r'C:/Users/emilc/Documents/PhDScripts/TEMGeminiCentre/mul2py/mul2py/matlab/cbed_test_results.ecmat')\n",
    "cbed = m2p.buildtools.make_signal(data_path)\n",
    "cbed.plot()\n",
    "cbed.metadata"
   ]
  },
  {
   "cell_type": "code",
   "execution_count": null,
   "metadata": {},
   "outputs": [],
   "source": [
    "cbed.original_metadata.General.original_filename=str(cbed.original_metadata.General.original_filename)\n",
    "cbed.metadata.General.original_filename=str(cbed.metadata.General.original_filename)\n",
    "cbed.save(data_path.with_suffix('.hspy'))"
   ]
  },
  {
   "cell_type": "code",
   "execution_count": null,
   "metadata": {},
   "outputs": [],
   "source": []
  },
  {
   "cell_type": "markdown",
   "metadata": {},
   "source": [
    "## SCBED"
   ]
  },
  {
   "cell_type": "code",
   "execution_count": null,
   "metadata": {},
   "outputs": [],
   "source": [
    "data_path = Path(r'C:/Users/emilc/Documents/PhDScripts/TEMGeminiCentre/mul2py/mul2py/matlab/scbed_test_results.ecmat')\n",
    "scbed = m2p.buildtools.make_signal(data_path)\n",
    "scbed.plot()\n",
    "scbed.metadata"
   ]
  },
  {
   "cell_type": "code",
   "execution_count": null,
   "metadata": {},
   "outputs": [],
   "source": []
  },
  {
   "cell_type": "markdown",
   "metadata": {},
   "source": [
    "## HRTEM"
   ]
  },
  {
   "cell_type": "code",
   "execution_count": null,
   "metadata": {},
   "outputs": [],
   "source": [
    "data_path = Path(r'C:/Users/emilc/Documents/PhDScripts/TEMGeminiCentre/mul2py/mul2py/matlab/hrtem_test_results.ecmat')\n",
    "hrtem = m2p.buildtools.make_signal(data_path)\n",
    "hrtem.plot()"
   ]
  },
  {
   "cell_type": "markdown",
   "metadata": {},
   "source": [
    "## STEM"
   ]
  },
  {
   "cell_type": "code",
   "execution_count": null,
   "metadata": {},
   "outputs": [],
   "source": [
    "data_path = Path(r'C:/Users/emilc/Documents/PhDScripts/TEMGeminiCentre/mul2py/mul2py/matlab/stem_test_results.ecmat')\n",
    "stem = m2p.buildtools.builders.build_stem(data_path)\n",
    "stem.plot()"
   ]
  }
 ],
 "metadata": {
  "kernelspec": {
   "display_name": "Python [conda env:.conda-multem2python]",
   "language": "python",
   "name": "conda-env-.conda-multem2python-py"
  },
  "language_info": {
   "codemirror_mode": {
    "name": "ipython",
    "version": 3
   },
   "file_extension": ".py",
   "mimetype": "text/x-python",
   "name": "python",
   "nbconvert_exporter": "python",
   "pygments_lexer": "ipython3",
   "version": "3.7.4"
  }
 },
 "nbformat": 4,
 "nbformat_minor": 2
}
