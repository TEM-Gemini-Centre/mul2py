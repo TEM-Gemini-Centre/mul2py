{
 "cells": [
  {
   "cell_type": "code",
   "execution_count": 1,
   "outputs": [],
   "source": [
    "model_path = r'C:\\Users\\emilc\\Desktop\\GMO_P1_Keve.cif'"
   ],
   "metadata": {
    "collapsed": false,
    "pycharm": {
     "name": "#%%\n",
     "is_executing": false
    }
   }
  },
  {
   "cell_type": "code",
   "execution_count": 249,
   "outputs": [],
   "source": [
    "from tabulate import tabulate\n",
    "from warnings import warn\n",
    "from ase import Atom, Atoms\n",
    "from scipy.io import savemat\n",
    "import numpy as np\n",
    "\n",
    "class CIFAtom(Atom):\n",
    "    def __init__(self, cell, atom = None, fractional_position=[0, 0, 0], dwf=np.nan, occupancy=1, charge=0, site_label='', symbol=''):\n",
    "        '''\n",
    "        Create a CifAtom object\n",
    "        \n",
    "        A CIFAtom is an ASE Atom object with additional fields read from a cif file, such as Debye-Waller factors and site labels.\n",
    "        \n",
    "        Parameters\n",
    "        ----------\n",
    "        cell: ase.cell.Cell\n",
    "            The cell in which the atom belongs.\n",
    "        kwargs: Keyword arguments passed on to ase.Atom\n",
    "            Can also be used to specify additional fields not supported by ASE, such as Debye-Waller factors.\n",
    "            \n",
    "        Examples\n",
    "        --------\n",
    "        To make an atom with a debye-waller factor different form NaN (default), pass on the debye-waller factor using the keyword \"debye_waller_factor\":\n",
    "        ```\n",
    "        my_cif_atom = CIFAtom(symbol='Al', position = [0, 0, 0], debye-waller-factor=1.006)\n",
    "        ```\n",
    "        \n",
    "        '''\n",
    "        \n",
    "        if isinstance(atom, CIFAtom):\n",
    "            cell=atom.cell\n",
    "            fractional_position=atom.fractional_position\n",
    "            dwf=atom.dwf\n",
    "            site_label=atom.site_label\n",
    "            occupancy=atom.occupancy\n",
    "        \n",
    "        if isinstance(cell, Cell):\n",
    "            self.cell=cell\n",
    "        else:\n",
    "            cell = np.array(cell, dtype=float)\n",
    "            if cell.shape == (3,3):\n",
    "                self.cell = Cell(cell)\n",
    "            elif cell.shape == (6,):\n",
    "                dummy_cell = Cell(np.eye(3))\n",
    "                self.cell = dummy_cell.new(cell)\n",
    "            else:\n",
    "                raise ValueError('Cell must be size (3,3) or (6,), got cell {cell!r} of shape {cell.shape}'.format(cell=cell))\n",
    "        self.fractional_position = np.array(fractional_position, dtype=float)\n",
    "        self.dwf = float(dwf)\n",
    "        try:\n",
    "            self.site_label = int(site_label)\n",
    "        except ValueError:\n",
    "            if isinstance(site_label, str):\n",
    "                warn('String site labels may not be supported by MULTEM')\n",
    "                self.site_label = site_label\n",
    "            else:\n",
    "                raise TypeError('Type of {site_label} (type {t}) is not supported for site_labels'.format(site_label=site_label, t=type(site_label)))\n",
    "        self.occupancy=float(occupancy)\n",
    "        \n",
    "        position = self.cell.cartesian_positions(self.fractional_position)\n",
    "        super().__init__(symbol=symbol, charge=charge, position=position)\n",
    "    \n",
    "    def __str__(self):\n",
    "        table = [[self.site_label, self.symbol, self.number, self.fractional_position[0], self.fractional_position[1], self.fractional_position[2], self.dwf, self.occupancy, self.charge]]\n",
    "        return '{rep}:\\n{table}'.format(rep=repr(self), table=tabulate(table, headers=['Label', 'Symbol', 'Number', 'x/a', 'y/b', 'z/c', 'B [Å]', 'Occupancy', 'Charge']))\n",
    "    \n",
    "    @property\n",
    "    def rms3d(self):\n",
    "        return self.dwf / (8.0 * np.pi **2)\n",
    "    \n",
    "    @property\n",
    "    def x(self):\n",
    "        return self.position[0]\n",
    "    @property\n",
    "    def y(self):\n",
    "        return self.position[1]\n",
    "    @property\n",
    "    def z(self):\n",
    "        return self.position[2]\n",
    "    \n",
    "    def update_position(self):\n",
    "        self.position = self.cell.cartesian_positions(self.fractional_position)\n",
    "\n",
    "class Crystal(object):\n",
    "    \n",
    "    def __init__(self, atoms, cellpar, na=1, nb=1, nc=1):\n",
    "        \"\"\"\n",
    "        Create a crystal object.\n",
    "        \n",
    "        A crystal consists of a unit cell and atoms with fractional coordinates. The atoms cartesian coordinates are calculated based on the unit cell (defined by the cell parameters `a`, `b`, `c`, `alpha`, `beta`, and `gamma`) on the fly.\n",
    "        \n",
    "        Parameters\n",
    "        ----------\n",
    "        atoms: list\n",
    "            A list of CIFAtom objects\n",
    "        cellpar: array-like\n",
    "            A 6-length array\n",
    "        na, nb, nc: int\n",
    "            Bookkeeping numbers for keeping track of how many times the crystal has been \"multiplied\" - no real use except for when writing MULTEM files\n",
    "        \"\"\"\n",
    "        self.atoms = atoms\n",
    "        self.cellpar = np.array(cellpar, dtype=float)\n",
    "        \n",
    "        dummy_cell = Cell(np.eye(3))\n",
    "        self.cell = dummy_cell.new(cell=self.cellpar)\n",
    "        self.na = na\n",
    "        self.nb = nb\n",
    "        self.nc = nc\n",
    "        \n",
    "    def __repr__(self):\n",
    "        if len(self.atoms) > 5:\n",
    "            return '{self.__class__.__name__}(atom-list, {self.cellpar})'.format(self=self)\n",
    "        else:\n",
    "            return '{self.__class__.__name__}({self.atoms!r}, {self.cellpar})'.format(self=self)\n",
    "    \n",
    "    def __str__(self):\n",
    "        cell_table = tabulate([self.cellpar], headers=['a [Å]', 'b [Å]', 'c [Å]', 'alpha [deg]', 'beta [deg]', 'gamma [deg]'])\n",
    "        orientation_table = tabulate([[name, x, y, z] for name, (x, y, z) in zip(['a', 'b', 'c'], self.cell.array)], headers=['', 'X [Å]', 'Y [Å]', 'Z [Å]'])\n",
    "        atom_table = tabulate([[atom.site_label, atom.symbol, atom.x, atom.y, atom.z, atom.dwf, atom.rms3d, atom.occupancy, atom.charge] for atom in self.atoms], headers=['Label', 'Symbol', 'x [Å]', 'y [Å]', 'z [Å]', 'B [Å]', 'RMS3D [Å]', 'Occ', 'Charge'])\n",
    "        return 'Crystal with\\n\\nCell parameters:\\n{cell_table}\\n\\nOrientation:\\n{orientation_table}\\n\\nAtoms:\\n{atom_table}'.format(cell_table= cell_table, orientation_table=orientation_table, atom_table=atom_table)\n",
    "    \n",
    "    def __mul__(self, other):\n",
    "        other=np.array(other)\n",
    "        new_cell = self.cell.new([self.a*other[0], self.b*other[1], self.c*other[2], self.alpha, self.beta, self.gamma])\n",
    "        new_atoms = []\n",
    "        for atom in self.atoms:\n",
    "            for i in range(other[0]):\n",
    "                for j in range(other[1]):\n",
    "                    for k in range(other[2]):\n",
    "                        position = atom.position + np.array([i, j, k]) * atom.cell.lengths()\n",
    "                        new_atom = CIFAtom(new_cell,\n",
    "                                           fractional_position=new_cell.scaled_positions(position),\n",
    "                                           symbol=atom.symbol,\n",
    "                                           charge=atom.charge,\n",
    "                                           dwf=atom.dwf,\n",
    "                                           occupancy=atom.occupancy,\n",
    "                                           site_label=atom.site_label)\n",
    "                        new_atoms.append(new_atom)\n",
    "            \n",
    "        return Crystal(new_atoms, new_cell.cellpar(), na=self.na*other[0], nb=self.nb*other[1], nc=self.nc*other[2])\n",
    "        \n",
    "                        \n",
    "    @property\n",
    "    def a(self):\n",
    "        return self.cellpar[0]\n",
    "    @property\n",
    "    def b(self):\n",
    "        return self.cellpar[1]\n",
    "    @property\n",
    "    def c(self):\n",
    "        return self.cellpar[2]\n",
    "    @property\n",
    "    def alpha(self):\n",
    "        return self.cellpar[3]\n",
    "    @property\n",
    "    def beta(self):\n",
    "        return self.cellpar[4]\n",
    "    @property\n",
    "    def gamma(self):\n",
    "        return self.cellpar[5]\n",
    "    \n",
    "    @property\n",
    "    def lx(self):\n",
    "        return np.linalg.norm(self.cell.array, axis=0)[0]\n",
    "    @property\n",
    "    def ly(self):\n",
    "        return np.linalg.norm(self.cell.array, axis=0)[1]\n",
    "    @property\n",
    "    def lz(self):\n",
    "        return np.linalg.norm(self.cell.array, axis=0)[2]\n",
    "    \n",
    "    def min_inter_atomic_distance(self, axis = None, threshold=0):\n",
    "        min_distance = np.inf\n",
    "        if axis is not None:\n",
    "            if axis not in [0, 1, 2]:\n",
    "                raise ValueError('Axis must be, 0, 1, or 2')\n",
    "            for atom1 in self.atoms:\n",
    "                for atom2 in self.atoms:\n",
    "                    if atom1 is not atom2:\n",
    "                        distance = abs(atom2.position[axis] - atom1.position[axis])\n",
    "                        if threshold <= distance < min_distance: min_distance=distance\n",
    "        else:\n",
    "            for atom1 in self.atoms:\n",
    "                for atom2 in self.atoms:\n",
    "                    distance = abs(atom2.position - atom1.position)\n",
    "                    if distance != 0 and distance < min_distance: min_distance=distance\n",
    "        return min_distance\n",
    "    \n",
    "    def max_inter_atomic_distance(self, axis = None, threshold=None):\n",
    "        if threshold is None:\n",
    "            threshold = max([self.lx, self.ly, self.lz])\n",
    "        max_distance = 0\n",
    "        if axis is not None:\n",
    "            if axis not in [0, 1, 2]:\n",
    "                raise ValueError('Axis must be, 0, 1, or 2')\n",
    "            for atom1 in self.atoms:\n",
    "                for atom2 in self.atoms:\n",
    "                    if atom1 is not atom2:\n",
    "                        distance = abs(atom2.position[axis] - atom1.position[axis])\n",
    "                        if distance != 0 and threshold >= distance > max_distance: max_distance=distance\n",
    "        else:\n",
    "            for atom1 in self.atoms:\n",
    "                for atom2 in self.atoms:\n",
    "                    distance = abs(atom2.position - atom1.position)\n",
    "                    if distance != 0 and distance > max_distance: max_distance=distance\n",
    "        return max_distance\n",
    "    \n",
    "    def add_atom(self, atom):\n",
    "        self.atoms.append(atom)\n",
    "        \n",
    "    def write(self, filename, dz, na=1, nb=1, nc=1):\n",
    "        filename=Path(filename)\n",
    "        if any([isinstance(atom.site_label, str) for atom in self.atoms]):\n",
    "            warn('String site labels detected for atoms in {self!r}, this might not be supported by MULTEM'.format(self=self))\n",
    "        data = [[[atom.number], [atom.x], [atom.y], [atom.z], [atom.rms3d], [atom.occupancy], [atom.site_label], [atom.charge]] if isinstance(atom.site_label, int) else [[atom.number], [atom.x], [atom.y], [atom.z], [atom.rms3d], [atom.occupancy], [[atom.site_label.encode('utf-8')]], [atom.charge]] for atom in self.atoms]\n",
    "        \n",
    "        matlabdict = {\n",
    "            \"spec_atoms\": data,\n",
    "            \"spec_lx\": self.lx,\n",
    "            \"spec_ly\": self.ly,\n",
    "            \"spec_lz\": self.lz,\n",
    "            \"spec_dz\": dz,\n",
    "            \"a\": self.a,\n",
    "            \"b\": self.b,\n",
    "            \"c\": self.c,\n",
    "            \"na\": self.na,\n",
    "            \"nb\": self.nb,\n",
    "            \"nc\": self.nc,\n",
    "        }\n",
    "        #print(matlabdict)\n",
    "        #print('Writing Crystal to \"{filename}\" with dz = {dz} Å'.format(self=self, filename=filename.with_suffix('.mat'), dz=dz))\n",
    "        savemat(filename.with_suffix('.mat'), matlabdict)"
   ],
   "metadata": {
    "collapsed": false,
    "pycharm": {
     "name": "#%%\n",
     "is_executing": false
    }
   }
  },
  {
   "cell_type": "code",
   "execution_count": 246,
   "outputs": [
    {
     "name": "stdout",
     "text": [
      "Crystal with\n",
      "\n",
      "Cell parameters:\n",
      "  a [Å]    b [Å]    c [Å]    alpha [deg]    beta [deg]    gamma [deg]\n",
      "-------  -------  -------  -------------  ------------  -------------\n",
      "   4.05     4.05     4.05             90            90             90\n",
      "\n",
      "Orientation:\n",
      "      X [Å]    Y [Å]    Z [Å]\n",
      "--  -------  -------  -------\n",
      "a      4.05     0        0\n",
      "b      0        4.05     0\n",
      "c      0        0        4.05\n",
      "\n",
      "Atoms:\n",
      "Label    Symbol      x [Å]    y [Å]    z [Å]    B [Å]    RMS3D [Å]    Occ    Charge\n",
      "-------  --------  -------  -------  -------  -------  -----------  -----  --------\n",
      "Al1      Al          0        0            0      0.5   0.00633257      1         0\n",
      "2        Al          2.025    2.025        0      1.3   0.0164647       1         0\n"
     ],
     "output_type": "stream"
    },
    {
     "name": "stderr",
     "text": [
      "C:\\Users\\emilc\\Miniconda3\\envs\\mul2py\\lib\\site-packages\\ipykernel_launcher.py:54: UserWarning: String site labels may not be supported by MULTEM\n",
      "C:\\Users\\emilc\\Miniconda3\\envs\\mul2py\\lib\\site-packages\\ipykernel_launcher.py:212: UserWarning: String site labels detected for atoms in Crystal(atom-list, [ 8.1  8.1  8.1 90.  90.  90. ]), this might not be supported by MULTEM\n"
     ],
     "output_type": "stream"
    }
   ],
   "source": [
    "from pathlib import Path\n",
    "\n",
    "atom1 = CIFAtom([4.05, 4.05, 4.05, 90, 90, 90], symbol='Al', fractional_position=[0,0,0], site_label='Al1', dwf=0.5)\n",
    "atom2 = CIFAtom([4.05, 4.05, 4.05, 90, 90, 90], symbol='Al', fractional_position=[0.5,0.5,0], site_label=2, dwf=1.3)\n",
    "\n",
    "cryst = Crystal([atom1, atom2], [4.05, 4.05, 4.05, 90, 90, 90])\n",
    "print(cryst)\n",
    "cryst = cryst * [2, 2, 2]\n",
    "\n",
    "cryst.write(Path(model_path).with_name('Al.mat'), dz=2.025)\n"
   ],
   "metadata": {
    "collapsed": false,
    "pycharm": {
     "name": "#%%\n",
     "is_executing": false
    }
   }
  },
  {
   "cell_type": "code",
   "execution_count": 239,
   "outputs": [
    {
     "name": "stdout",
     "text": [
      "-  -  -  ---\n",
      "a  1  0  0\n",
      "b  1  1  0\n",
      "c  0  0  0.5\n",
      "-  -  -  ---\n"
     ],
     "output_type": "stream"
    }
   ],
   "source": [
    "from ase.cell import Cell\n",
    "cell = Cell(np.array([[1, 0, 0], [1, 1, 0], [0, 0, 0.5]]))\n",
    "cell_table = tabulate([[name, x, y, z] for name, (x, y, z) in zip(['a', 'b', 'c'], cell.array)])\n",
    "print(cell_table)"
   ],
   "metadata": {
    "collapsed": false,
    "pycharm": {
     "name": "#%%\n",
     "is_executing": false
    }
   }
  },
  {
   "cell_type": "code",
   "execution_count": 149,
   "outputs": [
    {
     "name": "stdout",
     "text": [
      "(3, 3)\n"
     ],
     "output_type": "stream"
    }
   ],
   "source": [
    "A = np.eye(3)\n",
    "print(A.shape)"
   ],
   "metadata": {
    "collapsed": false,
    "pycharm": {
     "name": "#%%\n",
     "is_executing": false
    }
   }
  },
  {
   "cell_type": "code",
   "execution_count": 251,
   "outputs": [
    {
     "name": "stderr",
     "text": [
      "C:\\Users\\emilc\\Miniconda3\\envs\\mul2py\\lib\\site-packages\\ipykernel_launcher.py:54: UserWarning: String site labels may not be supported by MULTEM\n",
      "C:\\Users\\emilc\\Miniconda3\\envs\\mul2py\\lib\\site-packages\\ipykernel_launcher.py:214: UserWarning: String site labels detected for atoms in Crystal(atom-list, [10.38582 10.41861 32.10117 90.      90.      90.     ]), this might not be supported by MULTEM\n"
     ],
     "output_type": "stream"
    }
   ],
   "source": [
    "from CifFile import ReadCif\n",
    "from pathlib import Path\n",
    "\n",
    "import numpy as np\n",
    "from ase.spacegroup import Spacegroup, crystal\n",
    "\n",
    "filename=Path(model_path)\n",
    "with open(filename, 'r') as f:\n",
    "    ciffile = ReadCif(f)\n",
    "    for block in ciffile:\n",
    "        #print(block)\n",
    "        spacegroup = Spacegroup(int(block['_space_group_IT_number']))\n",
    "\n",
    "        cellpar = np.array([\n",
    "            block['_cell_length_a'],\n",
    "            block['_cell_length_b'],\n",
    "            block['_cell_length_c'],\n",
    "            block['_cell_angle_alpha'],\n",
    "            block['_cell_angle_beta'],\n",
    "            block['_cell_angle_gamma'],\n",
    "        ], dtype=float)\n",
    "        \n",
    "        try:\n",
    "            site_labels = block['_atom_site_label']\n",
    "        except KeyError:\n",
    "            print('Could not get site labels from cif file')\n",
    "        try:\n",
    "            occupancies = np.array(block['_atom_site_occupancy'], dtype=float)\n",
    "        except KeyError:\n",
    "            print('Could not get occupancies from cif file')\n",
    "        try:\n",
    "            fract_x = np.array(block['_atom_site_fract_x'], dtype=float)\n",
    "            fract_y = np.array(block['_atom_site_fract_y'], dtype=float)\n",
    "            fract_z = np.array(block['_atom_site_fract_z'], dtype=float)\n",
    "        except KeyError:\n",
    "            print('Could not get fractional coordinates from cif file, getting absolute coordinates instead.')\n",
    "            try:\n",
    "                x = np.array(block['_atom_site_cartn_x'], dtype=float)\n",
    "                y = np.array(block['_atom_site_cartn_y'], dtype=float)\n",
    "                z = np.array(block['_atom_site_cartn_z'], dtype=float)\n",
    "            except KeyError:\n",
    "                print('\\tCould not get absolute coordinates from cif file')\n",
    "                x = [np.nan] * len(block)\n",
    "                y = [np.nan] * len(block)\n",
    "                z = [np.nan] * len(block)\n",
    "            finally:\n",
    "                fract_x = x / cellpar[0]\n",
    "                fract_y = y / cellpar[1]\n",
    "                fract_z = z / cellpar[2]\n",
    "        else:\n",
    "            x = fract_x * cellpar[0]\n",
    "            y = fract_y * cellpar[1]\n",
    "            z = fract_y * cellpar[2]\n",
    "        finally:\n",
    "            x = x.T\n",
    "            y = y.T\n",
    "            z = z.T\n",
    "            fract_x = fract_x.T\n",
    "            fract_y = fract_y.T\n",
    "            fract_z = fract_z.T\n",
    "            \n",
    "            positions = np.array([x, y, z])\n",
    "            fractional_positions = np.array([fract_x, fract_y, fract_z])\n",
    "        try:\n",
    "            symbols = block['_atom_site_type_symbol']\n",
    "        except KeyError:\n",
    "            print('Could not get atom site chemical symbols from cif file')\n",
    "        try:\n",
    "            dwf = block['_atom_site_B_iso_or_equiv']\n",
    "        except KeyError:\n",
    "            print('Could not get Debye-Waller factors from cif file')\n",
    "        \n",
    "        basis_atoms = []\n",
    "        for label, occ, fx, fy, fz, symbol, B in zip(site_labels, occupancies, fractional_positions[0], fractional_positions[1], fractional_positions[2], symbols, dwf):\n",
    "            atom = CIFAtom(cellpar, symbol=symbol, occupancy=occ, fractional_position = (fx, fy, fz), dwf=B, site_label=label)\n",
    "            basis_atoms.append(atom)\n",
    "\n",
    "        \n",
    "        atoms = []\n",
    "        for atom in basis_atoms:\n",
    "            equivalent_sites, kinds = spacegroup.equivalent_sites(atom.fractional_position, onduplicates='warn', occupancies = atom.occupancy)\n",
    "            for site in equivalent_sites:\n",
    "                position = site * cellpar[:3]\n",
    "                equivalent_atom = CIFAtom(cellpar, fractional_position=site, site_label=atom.site_label, symbol=atom.symbol, dwf=atom.dwf, occupancy=atom.occupancy)\n",
    "                atoms.append(equivalent_atom)\n",
    "        \n",
    "        crystal = Crystal(atoms, cellpar)*[1, 1, 3]\n",
    "        crystal.write(model_path, dz = crystal.min_inter_atomic_distance(axis=2, threshold = 2.) / 2)\n"
   ],
   "metadata": {
    "collapsed": false,
    "pycharm": {
     "name": "#%%\n",
     "is_executing": false
    }
   }
  },
  {
   "cell_type": "code",
   "execution_count": 124,
   "outputs": [
    {
     "name": "stdout",
     "text": [
      "[90. 90. 90.]\n"
     ],
     "output_type": "stream"
    }
   ],
   "source": [
    "from ase.cell import Cell \n",
    "\n",
    "cell = Cell(np.array([[1, 0, 0], [0, 1, 0], [0, 0, 1]], dtype=float))\n",
    "new_cell = cell.new(cell=[4.05, 4.05, 4.05, 90, 90, 90])"
   ],
   "metadata": {
    "collapsed": false,
    "pycharm": {
     "name": "#%%\n",
     "is_executing": false
    }
   }
  },
  {
   "cell_type": "code",
   "execution_count": null,
   "outputs": [],
   "source": [
    "from mul2py.io.cif import CIFfile\n",
    "\n",
    "\n",
    "\n",
    "ciffile = CIFfile(model_path)\n",
    "\n",
    "print(ciffile)\n",
    "\n",
    "for atom in ciffile:"
   ],
   "metadata": {
    "collapsed": false,
    "pycharm": {
     "name": "#%%\n"
    }
   }
  }
 ],
 "metadata": {
  "kernelspec": {
   "display_name": "Python 3",
   "language": "python",
   "name": "python3"
  },
  "language_info": {
   "codemirror_mode": {
    "name": "ipython",
    "version": 2
   },
   "file_extension": ".py",
   "mimetype": "text/x-python",
   "name": "python",
   "nbconvert_exporter": "python",
   "pygments_lexer": "ipython2",
   "version": "2.7.6"
  },
  "pycharm": {
   "stem_cell": {
    "cell_type": "raw",
    "source": [],
    "metadata": {
     "collapsed": false
    }
   }
  }
 },
 "nbformat": 4,
 "nbformat_minor": 0
}