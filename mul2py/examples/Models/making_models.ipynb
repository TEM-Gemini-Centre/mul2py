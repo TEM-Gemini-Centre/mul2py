{
 "cells": [
  {
   "cell_type": "markdown",
   "metadata": {},
   "source": [
    "# MULTEM model creation guide\n",
    "This notebook serves as a guide to making models for multislice image simulations using MULTEM and mul2py. It covers some of the basic requirements of models from a multislice point of view, as well as some technical points.\n",
    "\n",
    "## Relationship between model size, resolution, and scattering angles\n",
    "When making models for multislice image simulations you must decide on a suitable slab size. It is important to remember that the $x$ and $y$ size of this model will affect the resolution of the simulation and the maximum possible scattering angle. In other words, the model must be made to fit your requirements for the simulation. As an example, if you perform a STEM simulation with collection semi-angles outside the actual scattering range of your simulation, you will only get black pixels!\n",
    "\n",
    "For multislice simulations, the number of beams is given by the number of potential pixels $n_x$, and the model size $L_x$ determines the smallest scattering vector $k_x^{min}=1/L_x$. The maximum scattering vector is then $k_x^{max} = n_x * k_x^{min} = n_x / L_x$. In addition, to remove aliasing effects, a bandwidth limit of $2/3$ is often used, so the actual maximum scattering vector is $k_x^{eff} = k_x^{max} * 2/3 = \\frac{2n_x}{3L_x}$. Now, $k_x^{eff}$ here is not actually the wave vector transfer between the incoming beam and a scattered beam. It is the largest possible scattering vector, which is actually the transfer between to scattered beams $g_+$ and $g_-$; $k_x^{eff} = g_{+} - g_{-}$, where $g$ is the wave vector of the beam scattered to the highest allowed angle, and the subscript indicates the \"sign\" of the angle. The simulations are symmetrical in the sense that $g_{+} = - g_{-}$, so that $k_x^{eff}=2g^{max}$, where $g^{max}=|g_{+}|=|g_{-}|$. Simultaneusly, the scattering angle of the beam with $g=g^{max}$ is $\\theta^{max}=\\lambda g^{max}$. This means that the maximum effective scattering angle of your simulation will be\n",
    "\n",
    "$$\\theta^{max} = \\lambda g^{max} = \\lambda \\frac{1}{2}k^{eff} = \\lambda \\frac{n_x}{3L_x}$$\n",
    "\n",
    "if a bandwidth of $2/3$ are used. With no bandwidth, this angle is increased by $3/2$, but this is not recommended, as aliasing effects will appear in the simulations. If you need a higher maximum scattering angle, you should instead increase the potential sampling (will increase simulation time) or reduce the model size (keeps simulation time constant). Changing either of these will change the resolution of your simulation however!"
   ]
  },
  {
   "cell_type": "markdown",
   "source": [
    "#### A note on convergence angles\n",
    "You might also want to consider the relationship between the convergence angle you use and the model size if you use very thick models. Because multislice simulations are periodic in $x$ and $y$, a beam that exits the model on one side will enter it on the opposite side. This means, that if you have a thick model, your incident beam might interact with itself if the convergence angle is too large and the model $x$ and $y$ dimensions are too small. The beam radius $r$ should be smaller than $L_x/2$ and $L_y/2$, and for a convergence semi-angle of $\\alpha$, and a model thickness of $L_z$, we get\n",
    "\n",
    "$$ \\alpha = \\tan\\left( \\frac{r}{L_z} \\right) \\Rightarrow r = L_z \\tan^{-1}\\left(\\alpha\\right) $$,\n",
    "\n",
    "and \n",
    "\n",
    "$$ r\\lt\\frac{L}{2} \\Rightarrow L_z \\lt \\frac{L}{2 \\tan^{-1}\\left(\\alpha\\right)} $$, \n",
    "\n",
    "with $L$ being the smaller of $L_x$ and $L_y$.\n",
    "\n",
    "With $\\alpha=27$ mrad, we get that the maximum model thickness for a model measuring $40.5$ Å in $x$ and $y$ directions is $ L_z^{max} = \\frac{40.5\\,Å}{2\\tan^{-1}\\left(\\frac{27}{1000}\\right)} = 750$ Å, so we see that this is rarely a problem for realistic model sizes, but it should still be considered.\n",
    "\n",
    "### Example\n",
    "Let us make a model for a HAADF STEM image simulation. If we want to use a maximum collection semi-angle up to $200$ mrad, which is a commonly used collection angle for atomically resolved images for this material, you will need a model size of\n",
    "\n",
    "$$L_x = \\frac{n_x\\lambda}{3\\theta^{max}} = \\frac{n_x\\lambda}{3 \\cdot 0.2\\,rad} $$\n",
    "\n",
    "If you want to use $n_x=1024$ pixels and electrons with $\\lambda = 0.0251$ Å (corresponding to $200$ kV), you will need a model size that is at least\n",
    "\n",
    "$$L_x \\leq \\frac{1024 \\cdot 0.0251\\,Å}{3 \\cdot 0.2\\,rad} = 42.84 $$ Å.\n",
    "\n",
    "Any larger model will result in a too fine resolution of scattering angles and too few pixels, making it impossible for some of the outer ranges of the annual detector to be illuminated.\n",
    "\n",
    "Now, lets see how many Aluminium unit cells we need to make a HAADF STEM simulation with collection angles at least up to $200$ mrad. Aluminium has a lattice constants $a=b=c=4.05$ Å, so for a model with $L\\leq42.84$ Å we will need a model with $$n_a = n_b = \\left\\lfloor \\frac{L}{a} \\right\\rfloor = \\left\\lfloor \\frac{42.84 Å}{4.05 Å} \\right\\rfloor = \\left\\lfloor 10.58 \\right\\rfloor = 10$$ unit cells. This gives a model with $L_x=L_y = 40.5$ Å, and a maximum scattering angle of $\\theta^{max}=\\frac{1024 \\cdot 0.0251\\,Å}{3\\cdot40.5\\,Å}=0.211=211$ mrad. This means that we can use collection semi-angles up to $211$ mrad with an Al model with $10\\times10$ unit cells when we resolve the crystal potential with 1024 pixels and use $200$ kV electrons. Now, we can make our model with ASE.\n",
    "\n",
    "## Making models with ASE\n",
    "Making models with ASE is relatively easy. One way is to make the model completely in ASE from scratch. The way we will be using in this guide is to use a premade crystal information file (.cif) that was made in VESTA. First, we load the unit cell file \"Al.cif\" and then weduplicate this to make a suitable slab. "
   ],
   "metadata": {
    "collapsed": false
   }
  },
  {
   "cell_type": "code",
   "execution_count": 1,
   "metadata": {
    "pycharm": {
     "is_executing": false
    }
   },
   "outputs": [
    {
     "traceback": [
      "\u001b[1;31m---------------------------------------------------------------------------\u001b[0m",
      "\u001b[1;31mTypeError\u001b[0m                                 Traceback (most recent call last)",
      "\u001b[1;32m<ipython-input-1-73e1edc98cd8>\u001b[0m in \u001b[0;36m<module>\u001b[1;34m\u001b[0m\n\u001b[0;32m      1\u001b[0m \u001b[1;32mfrom\u001b[0m \u001b[0mase\u001b[0m\u001b[1;33m.\u001b[0m\u001b[0mio\u001b[0m \u001b[1;32mimport\u001b[0m \u001b[0mread\u001b[0m\u001b[1;33m\u001b[0m\u001b[1;33m\u001b[0m\u001b[0m\n\u001b[0;32m      2\u001b[0m \u001b[1;32mfrom\u001b[0m \u001b[0mpathlib\u001b[0m \u001b[1;32mimport\u001b[0m \u001b[0mPath\u001b[0m\u001b[1;33m\u001b[0m\u001b[1;33m\u001b[0m\u001b[0m\n\u001b[1;32m----> 3\u001b[1;33m \u001b[0mAl\u001b[0m \u001b[1;33m=\u001b[0m \u001b[0mread\u001b[0m\u001b[1;33m(\u001b[0m\u001b[0mPath\u001b[0m\u001b[1;33m(\u001b[0m\u001b[1;34mr'C:\\Users\\emilc\\Desktop\\Al_2.cif'\u001b[0m\u001b[1;33m)\u001b[0m\u001b[1;33m,\u001b[0m \u001b[0mreader\u001b[0m\u001b[1;33m=\u001b[0m\u001b[1;34m'ase'\u001b[0m\u001b[1;33m)\u001b[0m \u001b[1;31m#Load the crystal\u001b[0m\u001b[1;33m\u001b[0m\u001b[1;33m\u001b[0m\u001b[0m\n\u001b[0m\u001b[0;32m      4\u001b[0m \u001b[1;31m#Al = aio.read(Path(r'Al.cif'), store_tags=True) #Load the crystalinformation file\u001b[0m\u001b[1;33m\u001b[0m\u001b[1;33m\u001b[0m\u001b[1;33m\u001b[0m\u001b[0m\n\u001b[0;32m      5\u001b[0m \u001b[0mprint\u001b[0m\u001b[1;33m(\u001b[0m\u001b[0mAl\u001b[0m\u001b[1;33m.\u001b[0m\u001b[0minfo\u001b[0m\u001b[1;33m)\u001b[0m\u001b[1;33m\u001b[0m\u001b[1;33m\u001b[0m\u001b[0m\n",
      "\u001b[1;32m~\\AppData\\Roaming\\Python\\Python37\\site-packages\\ase\\io\\formats.py\u001b[0m in \u001b[0;36mread\u001b[1;34m(filename, index, format, parallel, **kwargs)\u001b[0m\n\u001b[0;32m    477\u001b[0m     \u001b[1;32melse\u001b[0m\u001b[1;33m:\u001b[0m\u001b[1;33m\u001b[0m\u001b[1;33m\u001b[0m\u001b[0m\n\u001b[0;32m    478\u001b[0m         return next(_iread(filename, slice(index, None), format, io,\n\u001b[1;32m--> 479\u001b[1;33m                            parallel=parallel, **kwargs))\n\u001b[0m\u001b[0;32m    480\u001b[0m \u001b[1;33m\u001b[0m\u001b[0m\n\u001b[0;32m    481\u001b[0m \u001b[1;33m\u001b[0m\u001b[0m\n",
      "\u001b[1;32m~\\AppData\\Roaming\\Python\\Python37\\site-packages\\ase\\io\\formats.py\u001b[0m in \u001b[0;36m_iread\u001b[1;34m(filename, index, format, io, parallel, full_output, **kwargs)\u001b[0m\n\u001b[0;32m    535\u001b[0m     \u001b[1;31m# Make sure fd is closed in case loop doesn't finish:\u001b[0m\u001b[1;33m\u001b[0m\u001b[1;33m\u001b[0m\u001b[1;33m\u001b[0m\u001b[0m\n\u001b[0;32m    536\u001b[0m     \u001b[1;32mtry\u001b[0m\u001b[1;33m:\u001b[0m\u001b[1;33m\u001b[0m\u001b[1;33m\u001b[0m\u001b[0m\n\u001b[1;32m--> 537\u001b[1;33m         \u001b[1;32mfor\u001b[0m \u001b[0mdct\u001b[0m \u001b[1;32min\u001b[0m \u001b[0mio\u001b[0m\u001b[1;33m.\u001b[0m\u001b[0mread\u001b[0m\u001b[1;33m(\u001b[0m\u001b[0mfd\u001b[0m\u001b[1;33m,\u001b[0m \u001b[1;33m*\u001b[0m\u001b[0margs\u001b[0m\u001b[1;33m,\u001b[0m \u001b[1;33m**\u001b[0m\u001b[0mkwargs\u001b[0m\u001b[1;33m)\u001b[0m\u001b[1;33m:\u001b[0m\u001b[1;33m\u001b[0m\u001b[1;33m\u001b[0m\u001b[0m\n\u001b[0m\u001b[0;32m    538\u001b[0m             \u001b[1;32mif\u001b[0m \u001b[1;32mnot\u001b[0m \u001b[0misinstance\u001b[0m\u001b[1;33m(\u001b[0m\u001b[0mdct\u001b[0m\u001b[1;33m,\u001b[0m \u001b[0mdict\u001b[0m\u001b[1;33m)\u001b[0m\u001b[1;33m:\u001b[0m\u001b[1;33m\u001b[0m\u001b[1;33m\u001b[0m\u001b[0m\n\u001b[0;32m    539\u001b[0m                 \u001b[0mdct\u001b[0m \u001b[1;33m=\u001b[0m \u001b[1;33m{\u001b[0m\u001b[1;34m'atoms'\u001b[0m\u001b[1;33m:\u001b[0m \u001b[0mdct\u001b[0m\u001b[1;33m}\u001b[0m\u001b[1;33m\u001b[0m\u001b[1;33m\u001b[0m\u001b[0m\n",
      "\u001b[1;31mTypeError\u001b[0m: read_cif() got an unexpected keyword argument 'reader'"
     ],
     "ename": "TypeError",
     "evalue": "read_cif() got an unexpected keyword argument 'reader'",
     "output_type": "error"
    }
   ],
   "source": [
    "from ase.io import read\n",
    "from pathlib import Path\n",
    "Al = read(Path(r'C:\\Users\\emilc\\Desktop\\Al_2.cif'), reader='ase') #Load the crystal \n",
    "#Al = aio.read(Path(r'Al.cif'), store_tags=True) #Load the crystalinformation file\n",
    "print(Al.info)\n",
    "na, nb, nc = 10, 10, 20 # Number of unit cells along a, b, and c crystal axes\n",
    "\n",
    "slab = Al*[na, nb, nc] #Duplicate the model to make a slab\n",
    "\n",
    "slab.center(axis=(0, 1)) #Center the slab in the x-y plane - leave it unchanged in z-direction\n"
   ]
  },
  {
   "cell_type": "code",
   "execution_count": 81,
   "outputs": [
    {
     "traceback": [
      "\u001b[1;31m---------------------------------------------------------------------------\u001b[0m",
      "\u001b[1;31mIndexError\u001b[0m                                Traceback (most recent call last)",
      "\u001b[1;32m<ipython-input-81-9c12dec1a031>\u001b[0m in \u001b[0;36m<module>\u001b[1;34m\u001b[0m\n\u001b[0;32m      3\u001b[0m \u001b[1;32mwith\u001b[0m \u001b[0mopen\u001b[0m\u001b[1;33m(\u001b[0m\u001b[0mPath\u001b[0m\u001b[1;33m(\u001b[0m\u001b[1;34mr'C:\\Users\\emilc\\Desktop\\Al_2.cif'\u001b[0m\u001b[1;33m)\u001b[0m\u001b[1;33m,\u001b[0m \u001b[1;34m'r'\u001b[0m\u001b[1;33m)\u001b[0m \u001b[1;32mas\u001b[0m \u001b[0mciffile\u001b[0m\u001b[1;33m:\u001b[0m\u001b[1;33m\u001b[0m\u001b[1;33m\u001b[0m\u001b[0m\n\u001b[0;32m      4\u001b[0m     \u001b[0matom\u001b[0m \u001b[1;33m=\u001b[0m \u001b[0maio\u001b[0m\u001b[1;33m.\u001b[0m\u001b[0mcif\u001b[0m\u001b[1;33m.\u001b[0m\u001b[0mread_cif\u001b[0m\u001b[1;33m(\u001b[0m\u001b[0mciffile\u001b[0m\u001b[1;33m,\u001b[0m \u001b[0mindex\u001b[0m\u001b[1;33m=\u001b[0m\u001b[0mi\u001b[0m\u001b[1;33m,\u001b[0m \u001b[0mstore_tags\u001b[0m\u001b[1;33m=\u001b[0m\u001b[1;32mTrue\u001b[0m\u001b[1;33m)\u001b[0m\u001b[1;33m\u001b[0m\u001b[1;33m\u001b[0m\u001b[0m\n\u001b[1;32m----> 5\u001b[1;33m     \u001b[1;32mfor\u001b[0m \u001b[0ma\u001b[0m \u001b[1;32min\u001b[0m \u001b[0matom\u001b[0m\u001b[1;33m:\u001b[0m\u001b[1;33m\u001b[0m\u001b[1;33m\u001b[0m\u001b[0m\n\u001b[0m\u001b[0;32m      6\u001b[0m         \u001b[0mprint\u001b[0m\u001b[1;33m(\u001b[0m\u001b[0ma\u001b[0m\u001b[1;33m)\u001b[0m\u001b[1;33m\u001b[0m\u001b[1;33m\u001b[0m\u001b[0m\n\u001b[0;32m      7\u001b[0m     \u001b[0mi\u001b[0m \u001b[1;33m+=\u001b[0m \u001b[1;36m1\u001b[0m\u001b[1;33m\u001b[0m\u001b[1;33m\u001b[0m\u001b[0m\n",
      "\u001b[1;32m~\\AppData\\Roaming\\Python\\Python37\\site-packages\\ase\\io\\cif.py\u001b[0m in \u001b[0;36mread_cif\u001b[1;34m(fileobj, index, store_tags, primitive_cell, subtrans_included, fractional_occupancies)\u001b[0m\n\u001b[0;32m    409\u001b[0m         \u001b[1;32mexcept\u001b[0m \u001b[0mKeyError\u001b[0m\u001b[1;33m:\u001b[0m\u001b[1;33m\u001b[0m\u001b[1;33m\u001b[0m\u001b[0m\n\u001b[0;32m    410\u001b[0m             \u001b[1;32mpass\u001b[0m\u001b[1;33m\u001b[0m\u001b[1;33m\u001b[0m\u001b[0m\n\u001b[1;32m--> 411\u001b[1;33m     \u001b[1;32mfor\u001b[0m \u001b[0matoms\u001b[0m \u001b[1;32min\u001b[0m \u001b[0mimages\u001b[0m\u001b[1;33m[\u001b[0m\u001b[0mindex\u001b[0m\u001b[1;33m]\u001b[0m\u001b[1;33m:\u001b[0m\u001b[1;33m\u001b[0m\u001b[1;33m\u001b[0m\u001b[0m\n\u001b[0m\u001b[0;32m    412\u001b[0m         \u001b[1;32myield\u001b[0m \u001b[0matoms\u001b[0m\u001b[1;33m\u001b[0m\u001b[1;33m\u001b[0m\u001b[0m\n\u001b[0;32m    413\u001b[0m \u001b[1;33m\u001b[0m\u001b[0m\n",
      "\u001b[1;31mIndexError\u001b[0m: list index out of range"
     ],
     "ename": "IndexError",
     "evalue": "list index out of range",
     "output_type": "error"
    }
   ],
   "source": [
    "import ase.io as aio\n",
    "i=0\n",
    "with open(Path(r'C:\\Users\\emilc\\Desktop\\Al_2.cif'), 'r') as ciffile:\n",
    "    atom = aio.cif.read_cif(ciffile, index=i, store_tags=True)\n",
    "    for a in atom:\n",
    "        print(a)\n",
    "    i += 1"
   ],
   "metadata": {
    "collapsed": false,
    "pycharm": {
     "name": "#%%\n",
     "is_executing": false
    }
   }
  },
  {
   "cell_type": "markdown",
   "source": [
    "Now we have a model with some atoms. To visualize the model in 3D, use ASEs view function:"
   ],
   "metadata": {
    "collapsed": false,
    "pycharm": {
     "name": "#%% md\n"
    }
   }
  },
  {
   "cell_type": "code",
   "execution_count": 5,
   "metadata": {
    "pycharm": {
     "is_executing": false
    }
   },
   "outputs": [],
   "source": [
    "from ase.visualize import view\n",
    "view(slab)\n"
   ]
  },
  {
   "cell_type": "markdown",
   "source": [
    "If you want to store this model as a .cif file for later reference, you can write the model to a new file like this:"
   ],
   "metadata": {
    "collapsed": false,
    "pycharm": {
     "name": "#%% md\n"
    }
   }
  },
  {
   "cell_type": "code",
   "execution_count": 3,
   "metadata": {
    "pycharm": {
     "is_executing": false
    }
   },
   "outputs": [],
   "source": [
    "from ase.io import write\n",
    "write('Al_10x10x20.cif', slab)"
   ]
  },
  {
   "cell_type": "markdown",
   "source": [
    "## Making models for MULTEM\n",
    "Now we need to make this model useful for MULTEM. There are many ways of doing this, but the core concept is to make a MATLAB .mat file with some specific field names and values:\n",
    "  - `spec_atoms`: an array with atomic numbers, positions, and rms3d values, see below for the format.\n",
    "  - `spec_lx`: Model size in $x$ in Å\n",
    "  - `spec_ly`: Model size in $y$ in Å\n",
    "  - `spec_lz`: Model size in $z$ in Å\n",
    "  - `spec_dz`: Slice thickness in Å\n",
    "  - `a`: unit cell parameter $a$, optional (required when using the mul2py setup functions)\n",
    "  - `b`: unit cell parameter $b$, optional (required when using the mul2py setup functions)\n",
    "  - `c`: unit cell parameter $c$, optional (required when using the mul2py setup functions)\n",
    "  - `na`: number of unit cells in $a$, optional\n",
    "  - `nb`: number of unit cells in $b$, optional\n",
    "  - `nc`: number of unit cells in $c$, optional\n",
    "\n",
    "The `rms3d` values are related to the Debye-Waller factors $B$ by $rms_{3D} = \\sqrt{B / 8  \\pi^2}$. The Debye-Waller factors themselves depend on the atomic species (really the crystal - but it is common to take the values for single elements from pure crystals) and the temperature $T$. There are many sources for these values, but one which is commonly used is [Peng et al.](http://scripts.iucr.org/cgi-bin/paper?S010876739600089X). Extensive tables can be found in the [supplementary material](http://scripts.iucr.org/cgi-bin/sendsupfiles?zh0008&file=zh0008_82472sup1.pdf&mime=application/pdf) to this work.\n",
    "\n",
    "The `spec_atoms` object for a single Al unit cell with $T=300$ K would be an array looking like this (except the header):\n",
    "\n",
    "| $Z$ | $x$ [Å] | $y$ [Å] | $z$ [Å] | rms3d [Å] | Occupancy | Label | Charge [C] |\n",
    "|-----|---------|---------|---------|-----------|-----------|-------|------------|\n",
    "| 13  | 0       | 0       | 0       | 0.1006    | 1         | 0     | 0          |\n",
    "| 13  | 2.025   | 2.025   | 0       | 0.1006    | 1         | 0     | 0          |\n",
    "| 13  | 0       | 2.025   | 2.025   | 0.1006    | 1         | 0     | 0          |\n",
    "| 13  | 2.025   | 0       | 2.025   | 0.1006    | 1         | 0     | 0          |\n",
    "\n",
    "To help write these values into a .mat file, `mul2py` provides several functions for both writing and converting files to .mat format.\n",
    "\n",
    "## Saving models with mul2py\n",
    "With mul2py, you can use `mul2py.io.save_multem_model()`to either convert a predefined .cif file to a .mat file, or to store an ASE object to a .mat file directly. This function takes three required parameters: the name of the .mat file, the model to be written (either a path or an ASE object), and the rms3d values (the Debye-Waller factors can be given directly instead as well). The rms3d values and Debye-Waller factors are not provided as positional arguments, but rather as keyword arguments and may therfore appear to be optional. They are not however.\n",
    "\n",
    "In addition, you can specify the slice thickness you want to use directly, specify the number of slices, or you can let the function make an educated guess (based on model dimensions and crystal unit cell parameters). The last option is not advised, as you should really have control over this important parameter yourself.\n",
    "\n",
    "Let us try to write our Al model to a .mat file:"
   ],
   "metadata": {
    "collapsed": false,
    "pycharm": {
     "name": "#%% md\n"
    }
   }
  },
  {
   "cell_type": "code",
   "execution_count": 2,
   "outputs": [
    {
     "name": "stderr",
     "text": [
      "WARNING:hyperspy.api:The ipywidgets GUI elements are not available, probably because the hyperspy_gui_ipywidgets package is not installed.\n",
      "WARNING:hyperspy_gui_traitsui:The module://ipykernel.pylab.backend_inline matplotlib backend is not compatible with the traitsui GUI elements. For more information, read http://hyperspy.readthedocs.io/en/stable/user_guide/getting_started.html#possible-warnings-when-importing-hyperspy.\n",
      "WARNING:hyperspy_gui_traitsui:The traitsui GUI elements are not available.\n"
     ],
     "output_type": "stream"
    }
   ],
   "source": [
    "import mul2py as m2p\n",
    "dwfs = {13: 0.1006}\n",
    "a, b, c, alpha, beta, gamma = Al.get_cell_lengths_and_angles()\n",
    "dz = c/2\n",
    "m2p.io.save_multem_model('Al_10x10x20.mat', slab, dz=dz, B=dwfs, a=a, b=b, c=c, na=na, nb=nb, nc=nc)"
   ],
   "metadata": {
    "collapsed": false,
    "pycharm": {
     "name": "#%%\n",
     "is_executing": false
    }
   }
  },
  {
   "cell_type": "markdown",
   "source": [
    "Alternatively, you could convert the cif file we made previously (remember to specify number of slices or the slice thickness!):"
   ],
   "metadata": {
    "collapsed": false,
    "pycharm": {
     "name": "#%% md"
    }
   }
  },
  {
   "cell_type": "code",
   "execution_count": 5,
   "outputs": [],
   "source": [
    "import mul2py as m2p\n",
    "dwfs = {13: 0.1006}\n",
    "dz = 2.025\n",
    "m2p.io.save_multem_model('Al_10x10x20.mat', 'Al_10x10x20.cif', B=dwfs, dz=dz)"
   ],
   "metadata": {
    "collapsed": false,
    "pycharm": {
     "name": "#%%\n",
     "is_executing": false
    }
   }
  },
  {
   "cell_type": "markdown",
   "source": [
    "`m2p.io.save_multem_model()` only operates with single Debye-Waller factors or RMS3D values for a given species. If you need to store crystals where atoms of the same species but at different sites have differnt Debye-Waller factors, things become a little bit more complicated when converting CIF files because ASE does not read this information from the \".cif\" files. Instead, you can use `m2p.io.cif.convert_cif2mat()` to directly convert a CIF file without loading it into ASE, and the Debye-Waller factors of individual sites are kept. This function requires that the unit cell or crystal in the .cif file was stored with the correct orientation relative to X, Y, and Z. It supports replication, so that you may store a single unit cell in the .cif file and then replicate it to a larger slab on the fly before converting it. You must, however, still supply a slice thickness:"
   ],
   "metadata": {
    "collapsed": false,
    "pycharm": {
     "name": "#%% md\n"
    }
   }
  },
  {
   "cell_type": "code",
   "execution_count": 1,
   "outputs": [
    {
     "name": "stderr",
     "text": [
      "WARNING:hyperspy_gui_traitsui:The module://ipykernel.pylab.backend_inline matplotlib backend is not compatible with the traitsui GUI elements. For more information, read http://hyperspy.readthedocs.io/en/stable/user_guide/getting_started.html#possible-warnings-when-importing-hyperspy.\n",
      "WARNING:hyperspy_gui_traitsui:The traitsui GUI elements are not available.\n",
      "C:\\Users\\emilc\\Documents\\PhDScripts\\TEMGeminiCentre\\mul2py\\mul2py\\io\\cif.py:62: UserWarning: String site labels may not be supported by MULTEM\n",
      "  warn('String site labels may not be supported by MULTEM')\n"
     ],
     "output_type": "stream"
    },
    {
     "name": "stdout",
     "text": [
      "Converting labels to integers\n",
      "Saving crystal\n",
      "Saved crystal to \"Al_10x10x30.mat\"\n"
     ],
     "output_type": "stream"
    },
    {
     "data": {
      "text/plain": "<mul2py.io.cif.CIFfile at 0x13305c9cbc8>"
     },
     "metadata": {},
     "output_type": "execute_result",
     "execution_count": 1
    }
   ],
   "source": [
    "import mul2py as m2p\n",
    "dz = 2.025\n",
    "m2p.io.convert_cif2mat('Al.cif', dz=dz, na=10, nb=10, nc=30)"
   ],
   "metadata": {
    "collapsed": false,
    "pycharm": {
     "name": "#%%\n",
     "is_executing": false
    }
   }
  },
  {
   "cell_type": "markdown",
   "source": [
    "You are now ready to set up a MULTEM simulation using one of `mul2py`s MATLAB setup functions!"
   ],
   "metadata": {
    "collapsed": false,
    "pycharm": {
     "name": "#%% md\n"
    }
   }
  },
  {
   "cell_type": "markdown",
   "source": [
    "## Getting your model back from .mat\n",
    "Sometimes, you would want to retrieve your model from the .mat format and make it back into a .cif file. `mul2py` currently provides a very rough function for doing this (which was made in a hurry - so don't expect too much):"
   ],
   "metadata": {
    "collapsed": false,
    "pycharm": {
     "name": "#%% md\n"
    }
   }
  },
  {
   "cell_type": "code",
   "execution_count": 6,
   "outputs": [],
   "source": [
    "import mul2py as m2p\n",
    "model = m2p.io.mat2cif('Al_10x10x20.mat')"
   ],
   "metadata": {
    "collapsed": false,
    "pycharm": {
     "name": "#%%\n",
     "is_executing": false
    }
   }
  },
  {
   "cell_type": "markdown",
   "source": [
    "This function converts the model into a .cif file, and returns the model as an ASE object."
   ],
   "metadata": {
    "collapsed": false,
    "pycharm": {
     "name": "#%% md\n"
    }
   }
  }
 ],
 "metadata": {
  "kernelspec": {
   "name": "python3",
   "language": "python",
   "display_name": "Python 3"
  },
  "language_info": {
   "codemirror_mode": {
    "name": "ipython",
    "version": 3
   },
   "file_extension": ".py",
   "mimetype": "text/x-python",
   "name": "python",
   "nbconvert_exporter": "python",
   "pygments_lexer": "ipython3",
   "version": "3.7.1"
  },
  "pycharm": {
   "stem_cell": {
    "cell_type": "raw",
    "source": [],
    "metadata": {
     "collapsed": false
    }
   }
  }
 },
 "nbformat": 4,
 "nbformat_minor": 2
}